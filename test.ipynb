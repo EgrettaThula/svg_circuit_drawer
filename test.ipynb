{
 "cells": [
  {
   "cell_type": "markdown",
   "metadata": {},
   "source": [
    "### Performance\n",
    "\n",
    "On average, SVG circuit drawer is 8 times faster than MPL circuit drawer. The following graphs show how time scales with number of qubits and circuit depth for both drawers:\n",
    "\n",
    "\n",
    "![Number of Qubits](https://github.com/EgrettaThula/svg_circuit_drawer/blob/main/_static/num-qubits.png?raw=true)\n",
    "\n",
    "![Depth](https://github.com/EgrettaThula/svg_circuit_drawer/blob/main/_static/depth.png?raw=true)\n",
    "\n",
    "Let's create a large circuit and draw it using both SVG and MPL circuit drawers."
   ]
  },
  {
   "cell_type": "code",
   "execution_count": 1,
   "metadata": {
    "ExecuteTime": {
     "end_time": "2022-03-16T17:07:02.844868Z",
     "start_time": "2022-03-16T17:07:01.644997Z"
    },
    "code_folding": []
   },
   "outputs": [],
   "source": [
    "from qiskit.circuit.random import random_circuit\n",
    "from svg_drawer.circuit_visualization import circuit_drawer\n",
    "\n",
    "large_circuit = random_circuit(20, 150, 2, seed = 1)"
   ]
  },
  {
   "cell_type": "code",
   "execution_count": null,
   "metadata": {
    "ExecuteTime": {
     "end_time": "2022-03-16T17:07:07.302206Z",
     "start_time": "2022-03-16T17:07:03.974162Z"
    }
   },
   "outputs": [],
   "source": [
    "circuit_drawer(large_circuit)"
   ]
  },
  {
   "cell_type": "code",
   "execution_count": null,
   "metadata": {
    "ExecuteTime": {
     "end_time": "2022-03-16T17:07:31.602423Z",
     "start_time": "2022-03-16T17:07:14.414729Z"
    }
   },
   "outputs": [],
   "source": [
    "large_circuit.draw('mpl')"
   ]
  },
  {
   "cell_type": "markdown",
   "metadata": {},
   "source": [
    "### Better Styling\n",
    "\n",
    "SVG supports CSS; a rich easy to use standard styling language.\n",
    "\n",
    "Lets create a circuit and use it to demonstrate the richness of CSS-based styling:"
   ]
  },
  {
   "cell_type": "code",
   "execution_count": null,
   "metadata": {
    "ExecuteTime": {
     "end_time": "2022-03-16T17:07:50.444072Z",
     "start_time": "2022-03-16T17:07:50.250218Z"
    }
   },
   "outputs": [],
   "source": [
    "from qiskit.quantum_info import random_unitary\n",
    "op2 = random_unitary(4)\n",
    "op3 = random_unitary(8)\n",
    "\n",
    "circ2 = random_circuit(5, 5, 2, seed = 2)\n",
    "circ2.unitary(op2, [1, 2], label = '   Test   ')\n",
    "circ2.measure_all()\n",
    "\n",
    "circuit_drawer(circ2)"
   ]
  },
  {
   "cell_type": "code",
   "execution_count": null,
   "metadata": {
    "ExecuteTime": {
     "end_time": "2022-03-16T17:07:55.842537Z",
     "start_time": "2022-03-16T17:07:55.792539Z"
    }
   },
   "outputs": [],
   "source": [
    "style = {\n",
    "    # Reduce the radius of circuits in controlled gates:\n",
    "    'circle.control': { 'r': 3 },\n",
    "    # Make the gray area around the barrier less opaque: \n",
    "    'rect.barrier': { 'opacity': 0.15 },\n",
    "    # Display unitary bits in white color using a smaller font:\n",
    "    'text.unitary.bit': { 'fill':'white', 'font-size': '0.8em' },\n",
    "    # Display gate angles in yellow: \n",
    "    'text.angle': { 'fill':'#ffffaa' },\n",
    "    # Use light gray for classical wires:\n",
    "    'line.cwire': { 'stroke': 'lightgray' },\n",
    "    # Display classical wires bundle symbol and number of bits in green:\n",
    "    'line.cwire.bundle': { 'stroke': 'green' },\n",
    "    'text.cwire.size': { 'fill':'green', 'font-weight': 'bold' },\n",
    "    # Display colorful measurement instruments:\n",
    "    'rect.measure': { 'fill': 'indigo' },\n",
    "    'line.measure-symbol': { 'stroke': 'yellow' },\n",
    "    'path.measure-symbol': { 'stroke': 'orange' },\n",
    "}\n",
    "\n",
    "circuit_drawer(circ2, style = style)"
   ]
  },
  {
   "cell_type": "markdown",
   "metadata": {},
   "source": [
    "### Advanced Styles:\n",
    "\n",
    "Now, let's try something more advanced. In this [video](https://www.youtube.com/watch?v=Ejx61b2cIG4) Aram Harrow uses a nice circuit plots with the following properties:\n",
    "\n",
    "-  Comic fonts.\n",
    "-  Gradient colors.\n",
    "-  Rounded corners.\n",
    "-  Moreover, he chose for time to flow from right to left!"
   ]
  },
  {
   "cell_type": "code",
   "execution_count": null,
   "metadata": {
    "ExecuteTime": {
     "end_time": "2022-03-16T17:08:14.805206Z",
     "start_time": "2022-03-16T17:08:14.750772Z"
    },
    "scrolled": true
   },
   "outputs": [],
   "source": [
    "harrow_defs = \"\"\"\n",
    "    <linearGradient id=\"harrow\" x2=\"0%\" y2=\"100%\">\n",
    "        <stop offset=\"5%\" stop-color=\"#598fe8\" />\n",
    "        <stop offset=\"95%\" stop-color=\"#192766\" />\n",
    "    </linearGradient>\n",
    "    \"\"\"\n",
    "\n",
    "harrow_style = {\n",
    "    '': { 'background-color': '#2d3732' },\n",
    "    'rect:not(.barrier):not(.measure)': { 'fill': 'url(#harrow)', 'rx': 5, 'stroke': '#598fe8', 'stroke-width': 1 },\n",
    "    'rect.measure': { 'stroke': '#ffffff', 'stroke-width': 2 },\n",
    "    'line:not(.cwire):not(.measure):not(.measure-symbol)': { 'stroke': '#598fe8' },\n",
    "    'circle.control': { 'fill':'#192766' },\n",
    "    'text:not(.angle)': { 'fill': '#ffffff' },\n",
    "    'text.unitary.bit': { 'display': 'none' },\n",
    "    \n",
    "    'text.unitary': { 'font-family': 'Comic Sans MS', 'font-size': '1.2em' },\n",
    "    \n",
    "    'text.qwire.bit': { 'font-size': 0 },\n",
    "    'text.qwire tspan.initial-state': { 'font-family': 'Comic Sans MS', 'font-size': '12pt' },\n",
    "    \n",
    "    '>g': { 'transform-box': 'fill-box', 'transform-origin': 'center', 'transform': 'scale(-1, 1)' },\n",
    "    'text': { 'transform-box': 'fill-box', 'transform-origin': 'center', 'transform': 'scale(-1, 1)', 'white-space': 'pre' },\n",
    "}\n",
    "\n",
    "from qiskit.circuit import Gate\n",
    "from qiskit.circuit.library import QuantumVolume\n",
    "circ3 = QuantumVolume(4, 5, seed = 5).decompose()\n",
    "\n",
    "for index, instruction in enumerate(circ3.data):\n",
    "    instruction[0].label = '   $U_{{{x}}}$'.format(x = index + 1)\n",
    "\n",
    "circ3.measure_all()\n",
    "\n",
    "circuit_drawer(circ3, initial_state = True, plot_barriers = False, defs = [harrow_defs], style = harrow_style)"
   ]
  },
  {
   "cell_type": "markdown",
   "metadata": {},
   "source": [
    "### Rich Snips\n",
    "\n",
    "\"Rich snips\" is a unique feature for SVG drawer which has no equivalent in MPL drawer. Rich snip is a piece of information related to the circuit or part of it, which is displayed when user clicks on some active part in the circuit plot. This feature depends on SVG support for animations.\n",
    "\n",
    "Currently, two types of rich snips are supported:\n",
    "-  Calibrations.\n",
    "-  Decomposition.\n",
    "\n",
    "More rich snip types are to come."
   ]
  },
  {
   "cell_type": "code",
   "execution_count": null,
   "metadata": {
    "ExecuteTime": {
     "end_time": "2022-03-16T17:08:34.022119Z",
     "start_time": "2022-03-16T17:08:33.150292Z"
    }
   },
   "outputs": [],
   "source": [
    "from qiskit import pulse\n",
    "from qiskit.pulse.library import Gaussian, Constant\n",
    "from qiskit.test.mock import FakeValencia\n",
    "\n",
    "backend = FakeValencia()\n",
    "\n",
    "with pulse.build(backend, name='hadamard') as h_sch:\n",
    "    pulse.play(Gaussian(duration = 128, amp = 0.1, sigma=16), pulse.drive_channel(0))\n",
    "\n",
    "with pulse.build(backend) as x_sch:\n",
    "    pulse.play(Constant(duration = 10, amp = 0.1), pulse.drive_channel(0))\n",
    "\"\"\"\n",
    "circ4 = random_circuit(5, 5, max_operands = 2, seed = 1)\n",
    "circ4.h(0)\n",
    "circ4.x(1)\n",
    "circ4.measure_all()\n",
    "\"\"\"\n",
    "\n",
    "circ2.add_calibration('h', [0], h_sch)\n",
    "circ2.add_calibration('x', [1], x_sch)\n",
    "\n",
    "circuit_drawer(circ2, rich_snips = True)"
   ]
  },
  {
   "cell_type": "markdown",
   "metadata": {},
   "source": [
    "### And More\n",
    "\n",
    "- **Smaller file sizes**: on average Saving the MPL circuit plot as a .svg file results in a three times larger files.\n",
    "- **No 2^16 pixels limit**: there is a hard-coded limit of [2^16 pixels](https://github.com/matplotlib/matplotlib/blob/main/src/_backend_agg_wrapper.cpp) on the image size that can be generated by matplotlib.\n",
    "For example, try to draw the following circuit using both drawers:"
   ]
  },
  {
   "cell_type": "code",
   "execution_count": 7,
   "metadata": {
    "ExecuteTime": {
     "end_time": "2022-03-12T18:06:12.375989Z",
     "start_time": "2022-03-12T18:06:11.235832Z"
    }
   },
   "outputs": [],
   "source": [
    "huge_circuit = random_circuit(20, 500, 2, seed = 1)"
   ]
  }
 ],
 "metadata": {
  "interpreter": {
   "hash": "d692959da0b11acaeb2176be4a18c355c85469f03129732d09c8a58b7230da70"
  },
  "kernelspec": {
   "display_name": "Python 3 (ipykernel)",
   "language": "python",
   "name": "python3"
  },
  "language_info": {
   "codemirror_mode": {
    "name": "ipython",
    "version": 3
   },
   "file_extension": ".py",
   "mimetype": "text/x-python",
   "name": "python",
   "nbconvert_exporter": "python",
   "pygments_lexer": "ipython3",
   "version": "3.9.5"
  }
 },
 "nbformat": 4,
 "nbformat_minor": 2
}
