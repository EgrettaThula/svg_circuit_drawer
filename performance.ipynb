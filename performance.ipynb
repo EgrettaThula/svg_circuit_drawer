{
 "cells": [
  {
   "cell_type": "code",
   "execution_count": 1,
   "metadata": {},
   "outputs": [],
   "source": [
    "from qiskit.circuit.random import random_circuit\n",
    "from svg_drawer.circuit_visualization import circuit_drawer\n",
    "from time import time\n",
    "\n",
    "def calc(qubits_counts, depths):\n",
    "    repetitions = 5\n",
    "\n",
    "    svg_results = []\n",
    "    mpl_results = []\n",
    "\n",
    "    for num_qubits in qubits_counts:\n",
    "        for depth in depths:\n",
    "            print(num_qubits, depth)\n",
    "            circuit = random_circuit(num_qubits, depth, 2)\n",
    "            _filename = str(num_qubits) + '_' + str(depth)\n",
    "\n",
    "            T = []\n",
    "            for n in range(repetitions):\n",
    "                start_time = time()\n",
    "                circuit_drawer(circuit, filename = _filename + '.svg')\n",
    "                T.append(time() - start_time)\n",
    "            svg_results.append(round(float(sum(T) / len(T)), 2))\n",
    "\n",
    "            T = []\n",
    "            too_large = False\n",
    "            for n in range(repetitions):\n",
    "                try:\n",
    "                    start_time = time()\n",
    "                    style = { 'dpi': 50 }\n",
    "                    circuit.draw('mpl', style = style, filename = _filename + '.png')\n",
    "                    T.append(time() - start_time)\n",
    "                except Exception as ex:\n",
    "                    if str(ex).find('It must be less than 2^16 in each direction') > -1:\n",
    "                        too_large = True\n",
    "                        break\n",
    "            if too_large:\n",
    "                mpl_results.append('—')\n",
    "            else:\n",
    "                mpl_results.append(round(float(sum(T) / len(T)), 2))\n",
    "\n",
    "    return svg_results, mpl_results"
   ]
  },
  {
   "cell_type": "code",
   "execution_count": 2,
   "metadata": {},
   "outputs": [],
   "source": [
    "import matplotlib.pyplot as plt\n",
    "\n",
    "def draw(xlabel, qubits_counts, svg_results, mpl_results, filename):\n",
    "    plt.plot(qubits_counts, svg_results, marker=\"o\", label = 'SVG')\n",
    "    plt.plot(qubits_counts, mpl_results, marker=\"o\", label = 'MPL')\n",
    "    plt.xlabel(xlabel)\n",
    "    plt.ylabel('Time (s)')\n",
    "\n",
    "    plt.legend(loc='best', frameon=True, fancybox=False)\n",
    "    plt.grid(linewidth = 0.5)\n",
    "\n",
    "    plt.savefig(filename)\n",
    "    plt.show()"
   ]
  },
  {
   "cell_type": "code",
   "execution_count": null,
   "metadata": {},
   "outputs": [],
   "source": [
    "qubits_counts = [5, 10, 15, 20, 25, 30, 35, 40, 45]\n",
    "depths = [50]\n",
    "\n",
    "svg_results, mpl_results = calc(qubits_counts, depths)\n",
    "draw('Qubits', qubits_counts, svg_results, mpl_results, '_static/num-qubits.png')"
   ]
  },
  {
   "cell_type": "code",
   "execution_count": null,
   "metadata": {},
   "outputs": [],
   "source": [
    "qubits_counts = [15]\n",
    "depths = [20, 40, 60, 80, 100, 120, 140]\n",
    "\n",
    "svg_results, mpl_results = calc(qubits_counts, depths)\n",
    "draw('Depth', depths, svg_results, mpl_results, '_static/depth.png')"
   ]
  }
 ],
 "metadata": {
  "interpreter": {
   "hash": "d692959da0b11acaeb2176be4a18c355c85469f03129732d09c8a58b7230da70"
  },
  "kernelspec": {
   "display_name": "Python 3.9.5 ('base')",
   "language": "python",
   "name": "python3"
  },
  "language_info": {
   "codemirror_mode": {
    "name": "ipython",
    "version": 3
   },
   "file_extension": ".py",
   "mimetype": "text/x-python",
   "name": "python",
   "nbconvert_exporter": "python",
   "pygments_lexer": "ipython3",
   "version": "3.9.5"
  },
  "orig_nbformat": 4
 },
 "nbformat": 4,
 "nbformat_minor": 2
}
